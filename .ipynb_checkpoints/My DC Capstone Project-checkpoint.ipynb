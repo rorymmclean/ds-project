{
 "cells": [
  {
   "cell_type": "markdown",
   "metadata": {},
   "source": [
    "# My DC Capstone Project\n",
    "\n",
    "## Objectives: \n",
    "This Notebook project will use location data to identify an ideal location for a new restaurant in the DC area based upon zipcode-defined neighborhoods and review information obtained for Foursquare. A similar analysis will be performed for opening a bike shop. \n",
    "\n",
    "**Analysis #1** For the restaurant analysis, the goal is to find an under-served area identified as:\n",
    "* Areas with popular and successful restaurants as defined by the number of ratings and tips.\n",
    "* However this area does not have a highly rated restaurants in a given cousine (identified by the analysis). \n",
    "\n",
    "**Analsysi #2** For the bike shop analysis, the goal is to find an under-served area identified as:\n",
    "* The area should be underrepresented by other bike shops as defined by the number of locations. \n",
    "* However, this same area includes a large number of parks and trails where a bike could be used. \n"
   ]
  },
  {
   "cell_type": "markdown",
   "metadata": {},
   "source": [
    "## Data Sources:\n",
    "The following data sources will be used:\n",
    "\n",
    "* Areas will be identified by zip codes with the central point defined by the latitude and longitude. This information can be obtained from http://www.city-data.com/city/Washington-District-of-Columbia.html and a file provided through a GIT site: https://gist.github.com/erichurst/7882666\n",
    "\n",
    "* Foursquare will provide reviews near the zipcode latitude and longitude. For restaurants, the number of reviews will denote the market potential and the rating will determine the how competitive the venue will be. Analysis will be performed on the following cousines: Italian, Mexican, Indian, and Pizza Shops. For the bike shop Fourscare will provide the number of bike shops in an area and the number of venues where a bike could be used, such as bikes and trails. \n",
    "\n",
    "* Census data is available for each zip code stratified by revenue: https://factfinder.census.gov/faces/nav/jsf/pages/community_facts.xhtml This isn't available at the cousine level but does provide overall success of restaurants. "
   ]
  },
  {
   "cell_type": "code",
   "execution_count": null,
   "metadata": {},
   "outputs": [],
   "source": []
  }
 ],
 "metadata": {
  "kernelspec": {
   "display_name": "Python 3",
   "language": "python",
   "name": "python3"
  },
  "language_info": {
   "codemirror_mode": {
    "name": "ipython",
    "version": 3
   },
   "file_extension": ".py",
   "mimetype": "text/x-python",
   "name": "python",
   "nbconvert_exporter": "python",
   "pygments_lexer": "ipython3",
   "version": "3.7.4"
  },
  "latex_envs": {
   "LaTeX_envs_menu_present": true,
   "autoclose": false,
   "autocomplete": true,
   "bibliofile": "biblio.bib",
   "cite_by": "apalike",
   "current_citInitial": 1,
   "eqLabelWithNumbers": true,
   "eqNumInitial": 1,
   "hotkeys": {
    "equation": "Ctrl-E",
    "itemize": "Ctrl-I"
   },
   "labels_anchors": false,
   "latex_user_defs": false,
   "report_style_numbering": false,
   "user_envs_cfg": false
  },
  "toc": {
   "base_numbering": 1,
   "nav_menu": {},
   "number_sections": true,
   "sideBar": true,
   "skip_h1_title": false,
   "title_cell": "Table of Contents",
   "title_sidebar": "Contents",
   "toc_cell": false,
   "toc_position": {},
   "toc_section_display": true,
   "toc_window_display": false
  },
  "varInspector": {
   "cols": {
    "lenName": 16,
    "lenType": 16,
    "lenVar": 40
   },
   "kernels_config": {
    "python": {
     "delete_cmd_postfix": "",
     "delete_cmd_prefix": "del ",
     "library": "var_list.py",
     "varRefreshCmd": "print(var_dic_list())"
    },
    "r": {
     "delete_cmd_postfix": ") ",
     "delete_cmd_prefix": "rm(",
     "library": "var_list.r",
     "varRefreshCmd": "cat(var_dic_list()) "
    }
   },
   "types_to_exclude": [
    "module",
    "function",
    "builtin_function_or_method",
    "instance",
    "_Feature"
   ],
   "window_display": false
  }
 },
 "nbformat": 4,
 "nbformat_minor": 2
}
